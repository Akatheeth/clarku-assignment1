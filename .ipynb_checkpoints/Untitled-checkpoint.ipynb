{
 "cells": [
  {
   "cell_type": "markdown",
   "metadata": {},
   "source": [
    "# Publicly available datasets \n",
    "\n",
    "## Dataset example:\n",
    "\n",
    "- Link: [Google Dataset](https://www.google.com)\n",
    "\n",
    "- Purpose (what would you use this dataset for, explain, a short paragraph): \n",
    "I would use this \"dataset\" (not really a dataset) to search for more details of extratestrial life. \n",
    "\n",
    "## Dataset 1:\n",
    "\n",
    "- Link: []()\n",
    "- Purpose (what would you use this dataset for, explain, a short paragraph): \n",
    "\n",
    "## Dataset 2:\n",
    "\n",
    "- Link: []()\n",
    "- Purpose (what would you use this dataset for, explain, a short paragraph): \n",
    "\n",
    "## Dataset 3:\n",
    "\n",
    "- Link: []()\n",
    "- Purpose (what would you use this dataset for, explain, a short paragraph): \n",
    "\n",
    "## Dataset 4:\n",
    "\n",
    "- Link: []()\n",
    "- Purpose (what would you use this dataset for, explain, a short paragraph): \n",
    "\n",
    "## Dataset 5:\n",
    "\n",
    "- Link: []()\n",
    "- Purpose (what would you use this dataset for, explain, a short paragraph): \n",
    "\n",
    "# Dataset information\n"
   ]
  },
  {
   "cell_type": "markdown",
   "metadata": {},
   "source": [
    "## Chosen dataset: ***dataset1***"
   ]
  },
  {
   "cell_type": "code",
   "execution_count": 1,
   "metadata": {},
   "outputs": [],
   "source": [
    "import pandas"
   ]
  },
  {
   "cell_type": "code",
   "execution_count": 3,
   "metadata": {},
   "outputs": [],
   "source": [
    "# You will now proceed with a serious of commands in the next cell(s) that demonstrate some level of manipulation of the dataset that you are interested, in my case dataset1\n",
    "\n",
    "# As you enter and execute commands leave the outputs so that I can read the manipulation that you did. Use all of your python skills here that you wish\n",
    "\n",
    "# As an example I am providing some commands that have absolutly nothing to do with a dataset but just to illustrate\n",
    "\n",
    "# Once done, you can save this Jupyter notebook as a markdown and this is what I want you to commit to your private repo. Once you have your assignment ready, invite me to your private repo"
   ]
  },
  {
   "cell_type": "code",
   "execution_count": 18,
   "metadata": {},
   "outputs": [],
   "source": [
    "list1 = [range(1,11)]"
   ]
  },
  {
   "cell_type": "code",
   "execution_count": 20,
   "metadata": {},
   "outputs": [
    {
     "name": "stdout",
     "output_type": "stream",
     "text": [
      "[range(1, 11)]\n"
     ]
    }
   ],
   "source": [
    "print(list1)"
   ]
  },
  {
   "cell_type": "code",
   "execution_count": 21,
   "metadata": {},
   "outputs": [],
   "source": [
    "My_list = [range(10, 20, 1)]"
   ]
  },
  {
   "cell_type": "code",
   "execution_count": 22,
   "metadata": {},
   "outputs": [
    {
     "name": "stdout",
     "output_type": "stream",
     "text": [
      "[range(10, 20)]\n"
     ]
    }
   ],
   "source": [
    "print(My_list)"
   ]
  },
  {
   "cell_type": "code",
   "execution_count": null,
   "metadata": {},
   "outputs": [],
   "source": []
  }
 ],
 "metadata": {
  "kernelspec": {
   "display_name": "Python 3",
   "language": "python",
   "name": "python3"
  },
  "language_info": {
   "codemirror_mode": {
    "name": "ipython",
    "version": 3
   },
   "file_extension": ".py",
   "mimetype": "text/x-python",
   "name": "python",
   "nbconvert_exporter": "python",
   "pygments_lexer": "ipython3",
   "version": "3.8.1"
  }
 },
 "nbformat": 4,
 "nbformat_minor": 4
}
